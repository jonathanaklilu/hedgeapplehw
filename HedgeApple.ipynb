{
  "nbformat": 4,
  "nbformat_minor": 0,
  "metadata": {
    "colab": {
      "provenance": [],
      "authorship_tag": "ABX9TyMkJaKfiGyIxTXMzIyLYDr0",
      "include_colab_link": true
    },
    "kernelspec": {
      "name": "python3",
      "display_name": "Python 3"
    },
    "language_info": {
      "name": "python"
    }
  },
  "cells": [
    {
      "cell_type": "markdown",
      "metadata": {
        "id": "view-in-github",
        "colab_type": "text"
      },
      "source": [
        "<a href=\"https://colab.research.google.com/github/jonathanaklilu/hedgeapplehw/blob/main/HedgeApple.ipynb\" target=\"_parent\"><img src=\"https://colab.research.google.com/assets/colab-badge.svg\" alt=\"Open In Colab\"/></a>"
      ]
    },
    {
      "cell_type": "markdown",
      "source": [
        "# Read In File"
      ],
      "metadata": {
        "id": "BjSxkqhCT421"
      }
    },
    {
      "cell_type": "code",
      "execution_count": null,
      "metadata": {
        "id": "Qz_lJsrJTzpw"
      },
      "outputs": [],
      "source": [
        "import pandas as pd\n",
        "\n",
        "df = pd.read_csv('https://raw.githubusercontent.com/HedgeApple/etl_homework/refs/heads/master/homework.csv')"
      ]
    },
    {
      "cell_type": "markdown",
      "source": [
        "# Use test value to find item number\n"
      ],
      "metadata": {
        "id": "pQah3PYljDMv"
      }
    },
    {
      "cell_type": "code",
      "source": [
        "value = '3129-1149'\n",
        "for column in df.columns:\n",
        "  if value in df[column].values:\n",
        "    print(column)"
      ],
      "metadata": {
        "id": "BIHHndkqWAQj"
      },
      "execution_count": null,
      "outputs": []
    },
    {
      "cell_type": "code",
      "source": [
        "row_index = df[df.isin([value])].dropna(how='all').index\n",
        "\n",
        "# Display the entire row(s) and all columns in Jupyter notebook\n",
        "if not row_index.empty:\n",
        "    display(df.loc[row_index])\n",
        "else:\n",
        "    print(f\"Value {value_to_find} not found.\")"
      ],
      "metadata": {
        "collapsed": true,
        "id": "0SmPv3uUb7l4"
      },
      "execution_count": null,
      "outputs": []
    },
    {
      "cell_type": "markdown",
      "source": [
        "# Create New DataFrame"
      ],
      "metadata": {
        "id": "O8aLaWkKjWjW"
      }
    },
    {
      "cell_type": "code",
      "source": [
        "df2 = df[['item number', 'upc', 'item width (inches)', 'item depth (inches)', 'item weight (pounds)', 'msrp ($)', 'item category', 'brand', 'description', 'long description', 'country of origin', 'item finish', 'item materials', 'carton 1 width (inches)', 'carton 1 length (inches)', 'carton 1 height (inches)', 'carton 1 weight (pounds)']].copy()"
      ],
      "metadata": {
        "id": "ffEktcDwaYtx"
      },
      "execution_count": 74,
      "outputs": []
    },
    {
      "cell_type": "code",
      "source": [
        "df2.rename(columns={'item number':'Item Number', 'upc':'UPC', 'item width (inches)':'Item Width', 'item depth (inches)':'Item Depth', 'item weight (pounds)':'Item Weight', 'msrp ($)':'MSRP', 'item category':'Item Category', 'brand':'Brand', 'description':'Description', 'long description':'Long Description', 'country of origin':'Country of Origin', 'item finish':'Item Finish', 'item materials':'Item Materials', 'carton 1 width (inches)':'Carton Width', 'carton 1 length (inches)':'Carton Length', 'carton 1 height (inches)':'Carton Height', 'carton 1 weight (pounds)':'Carton Weight'})"
      ],
      "metadata": {
        "collapsed": true,
        "id": "PcjWy7eQje1b"
      },
      "execution_count": null,
      "outputs": []
    },
    {
      "cell_type": "markdown",
      "source": [
        "# Outputting the DataFrame into a CSV"
      ],
      "metadata": {
        "id": "IH9o33Gzn2Y9"
      }
    },
    {
      "cell_type": "code",
      "source": [
        "df.to_csv('formatted.csv', index=False)"
      ],
      "metadata": {
        "id": "Vl1H2yYfn8x1"
      },
      "execution_count": 77,
      "outputs": []
    }
  ]
}